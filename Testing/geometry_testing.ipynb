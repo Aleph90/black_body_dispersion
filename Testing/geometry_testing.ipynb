{
 "cells": [
  {
   "cell_type": "markdown",
   "metadata": {},
   "source": [
    "# Geometry testing\n",
    "\n",
    "The goal of this notebook is to study and optimize the geometric parameters in this project, including:\n",
    "- Location of the black body;\n",
    "- Radius of the black body;\n",
    "- Location of the refractive layer;\n",
    "- Orientation of the refractive layer;\n",
    "- Thickness of the refractive layer.\n",
    "\n",
    "The objective is to place the black body in a location that will get its image into the frame, with a good relative size and separation between colors."
   ]
  },
  {
   "cell_type": "markdown",
   "metadata": {},
   "source": [
    "## Basic geometry --- no medium transition\n",
    "\n",
    "The scene is modelled so that the screen lies on the $xz$-plane, aligned with the axes and centred at the origin. \n",
    "In a physical scene, the \"objective\", i.e. the point of convergence of the rays, would lie between the screen and the scene itself, but in this model we place the point *behind* the screen instead.\n",
    "The distance $f$ between the objective and the screen is often called the \"focal distance\". \n",
    "In the basic case where no medium or lens is present, the obvious positioning of the sphere would be straight ahead of the screen, i.e. centred on the $y$-axis at some distance $D$ from the screen. \n",
    "The angle $\\varphi$ between the $y$-axis and any tangent line to the sphere through the $y$-axis is related to $D$ and the radius $R$ of the sphere by the relation\n",
    "$$\n",
    "    \\sin \\varphi = \\frac{R}{D+f} .\n",
    "$$ \n",
    "It is also immediate to see that the radius of the image, on the other hand, is\n",
    "$$\n",
    "    r = f \\tan \\varphi .\n",
    "$$   \n",
    "If the sphere represents the sun (or other star), we can assume that all rays coming from it are approximately parallel, and that the focal distance $f$ is negligible compared to the distance $D$. \n",
    "The rays being parallel means that the angle $\\varphi$ is small, so under the small-angle approximation and the assumption that $f \\ll D$ we have\n",
    "$$\n",
    "    \\varphi \\sim \\sin \\varphi = \\frac{R}{D+f} \\sim \\frac{R}{D} .\n",
    "$$ \n",
    "In this regime, we also have $\\tan \\varphi \\sim \\varphi$, so that $r \\sim f \\frac{R}{D}$, and the choice of $f$ seems to have no other effect than to set the scale for the size of the image.  \n",
    "To see some concrete numbers, the radius of the Sun is about $R \\sim 6.95 \\cdot 10^{8} \\, \\mathrm{m}$ while its distance from the Earth is $D \\sim 1.50 \\cdot 10^{11} \\, \\mathrm{m}$. "
   ]
  },
  {
   "cell_type": "code",
   "execution_count": 5,
   "metadata": {},
   "outputs": [
    {
     "data": {
      "text/plain": [
       "0.004633333333333333"
      ]
     },
     "execution_count": 5,
     "metadata": {},
     "output_type": "execute_result"
    }
   ],
   "source": [
    "big_r = 6.95e+8\n",
    "big_d = 1.50e+11\n",
    "varphi = big_r/big_d\n",
    "varphi"
   ]
  },
  {
   "cell_type": "markdown",
   "metadata": {},
   "source": [
    "<img src=\"Doc_assets/no_barriers.png\" alt=\"Basic geometry\" width=\"600\"/> <img src=\"Doc_assets/no_barriers_parallel.png\" alt=\"Basic geometry with parallel rays assumption\" width=\"600\"/>"
   ]
  },
  {
   "cell_type": "markdown",
   "metadata": {},
   "source": [
    "## One refractive boundary\n",
    "\n",
    "Consider now the case where the sphere and the screen/objective are separated by a single refractive boundary, a plane separating space into two regions. \n",
    "The goal of this section is to determine the location of the sphere that will make so that the refracted rays reaching the screen are (approximately) parallel to the $y$-axis, and adjust the parameters so that the colours are well separated.  \n",
    "Call $\\alpha$ the angle between the $y$-axis and the normal to the plane, and for simplicity $\\eta$ the *ratio* of the refractive index of the region containing the sphere over that of the other one.  \n",
    "Suppose that a ray from the sphere is refracted through the plane and reaches the screen orthogonally, meaning that the incidence angle on the screen side is equal to $\\alpha$. \n",
    "If $\\theta$ is the incidence angle on the sphere side, then\n",
    "$$\n",
    "    \\sin \\theta = \\frac{1}{\\eta} \\sin \\alpha .\n",
    "$$\n",
    "The angle between the ray emitted by the sphere and the $y$-axis is then $\\alpha - \\theta$. \n",
    "Therefore, $\\alpha - \\theta$ is also the angle at which the sphere should be placed in order to obtain this scenario, relative to the $y$-axis and its intercept with the plan as centre of rotation.  \n",
    "While $\\alpha$ is fixed, $\\eta$ is dependent of the wavelength of the beam. \n",
    "If $\\eta$ changes by a small amount $\\mathrm{d}\\eta$ then\n",
    "$$\n",
    "    \\cos \\theta \\mathrm{d} \\theta = - \\frac{1}{\\eta^{2}} \\sin \\alpha \\mathrm{d} \\eta ,\n",
    "$$\n",
    "which can be rearranged to\n",
    "$$\n",
    "    \\mathrm{d} \\theta = - \\frac{\\sin \\alpha}{\\eta^{2} \\sqrt{1 - \\sin^{2} \\theta}} \\mathrm{d} \\eta = - \\frac{\\sin \\alpha}{\\sqrt{\\eta^{2} - \\sin^{2} \\alpha}} \\mathrm{d} \\eta .\n",
    "$$ \n",
    "Changing $\\theta$ can be thought of as moving the sphere by a rotation around the incidence point on the refracting plane. \n",
    "If the change $\\mathrm{d} \\theta$ in $\\theta$ is small enough and the surface is much closer to the screen than to the sphere, then this change can be approximated as a shift by $D \\mathrm{d} \\theta$. \n",
    "This shift should be measured relative to the radius $R$, and correspondingly results in a relative shift of the image by $\\frac{D}{R} \\mathrm{d} \\theta$.  \n",
    "\n",
    "Consider now the two separate cases of $\\eta < 1$ and $\\eta > 1$. \n",
    "The case $\\eta < 1$ corresponds to a denser material on the sphere side than the camera side. \n",
    "The relation between $\\theta$ and $\\alpha$ then only makes sense for $\\alpha < \\arcsin \\eta$ --- for larger values of $\\alpha$ the entire image would be reflected instead of refracted. \n",
    "At any rate, the expression for $\\mathrm{d} \\theta$ is unbounded for $0 < \\alpha < \\arcsin \\eta$ and can be set to any positive value by choosing $\\alpha$ appropriately. \n",
    "On the other hand, in the case $\\eta > 1$ then the $\\alpha$-$\\theta$ relation has a solution in $\\theta$ for every $\\alpha$. \n",
    "The expression for $\\mathrm{d} \\theta$ is also well defined for all $\\alpha$ and bounded. \n",
    "From the rearrangement\n",
    "$$\n",
    "    \\mathrm{d} \\theta = - \\frac{1}{\\sqrt{\\displaystyle \\frac{\\eta^{2}}{\\sin^{2} \\alpha} - 1}} \\mathrm{d} \\eta \n",
    "$$\n",
    "it is apparent that the maximum (in absolute value) is attained when $\\sin \\alpha$ is largest, i.e. for $\\alpha = \\frac{\\pi}{2}$, and the corresponding value is\n",
    "$$\n",
    "    \\mathrm{d} \\theta_{\\max} = - \\frac{1}{\\sqrt{\\eta^{2} - 1}} \\mathrm{d} \\eta . \n",
    "$$ \n",
    "\n",
    "For wavelengths in the visible spectrum, the refractive coefficient of sapphire ranges between $1.76$ and $1.79$. \n",
    "Let us set $\\eta = 1.77$ and $\\mathrm{d} \\eta = 0.03$, and recall that $\\frac{D}{R} \\sim 216$, which we will approximate as $200$ for simplicity. "
   ]
  },
  {
   "cell_type": "code",
   "execution_count": 9,
   "metadata": {},
   "outputs": [
    {
     "name": "stdout",
     "output_type": "stream",
     "text": [
      "0.6847227425667958\n",
      "4.108336455400774\n"
     ]
    }
   ],
   "source": [
    "from math import sqrt\n",
    "\n",
    "eta = 1.77\n",
    "d_eta = 0.03\n",
    "print(1/sqrt(eta**2 - 1))\n",
    "print(1/sqrt(eta**2 - 1) * 200 * d_eta)"
   ]
  },
  {
   "cell_type": "markdown",
   "metadata": {},
   "source": [
    "With these parameters, therefore, the displacements of the images corresponding to the different wavelengths can be pushed to up to $4$ times the radius of the image for a single frequency.  \n",
    "The physical situation corresponding to this setting is that in which the camera is embedded in a solid layer of sapphire. \n",
    "Since the distance of the refractive surface from the camera seems to be of no consequence, this scenario is not too physically unrealistic. \n",
    "What is more, since the rays reaching the camera are approximately orthogonal to the screen, a very similar result would occur if a second refractive surface, parallel to the screen, was added. \n",
    "This would simply correspond to a prism of angle $\\alpha$ and one face parallel to the camera."
   ]
  },
  {
   "cell_type": "markdown",
   "metadata": {},
   "source": [
    "In summary, if $\\alpha$, $R$, and $D$ are fixed, then the sun should be located at the point of coordinates \n",
    "$$\n",
    "    x = - D \\sin( \\alpha - \\theta ) \\\\\n",
    "    y = D \\cos( \\alpha - \\theta ) \\\\\n",
    "    z = 0\n",
    "$$\n",
    "where\n",
    "$$\n",
    "    \\theta = \\arcsin \\Bigl( \\frac{\\sin \\alpha}{\\eta_{0}} \\Bigr)\n",
    "$$\n",
    "for some chosen \"reference\" value $\\eta_{0}$ (for sapphire, a good choice is $\\eta_{0} = 1.77$). \n",
    "Adjusting $y$ to account for the location of the location of the refractive screen may improve accuracy, but according to this discussion the correction should have no tangible effect in practice as long as the plane is relatively close to the screen."
   ]
  },
  {
   "cell_type": "markdown",
   "metadata": {},
   "source": [
    "## Two parallel refractive boundaries\n",
    "\n",
    "The second case we want to consider is that of a refractive \"layer\" of thickness $\\delta$ between the camera and the sphere, also at an angle $\\alpha$ relative to the $y$-axis. \n",
    "If the material on the two sides of the layer is the same, then the double refraction brings all beams back to the original direction, so the sphere should again be placed on or near the $y$-axis. \n",
    "What the geometry of the layer determines is instead the amount $s$ by which each ray is shifted after transitioning through the layer. \n",
    "Calling $\\theta$ the incidence angle internal to the material, a little trigonometry shows that this displacement is equal to\n",
    "$$\n",
    "    s = \n",
    "    \\delta \\cdot \\frac{\\sin(\\alpha - \\theta)}{\\cos(\\theta)} = \n",
    "    \\delta \\cdot \\frac{\\sin \\alpha \\cos \\theta - \\cos \\alpha \\sin \\theta}{\\cos \\theta} = \n",
    "    \\delta \\cdot \\Bigl( \\sin \\alpha - \\frac{\\cos \\alpha \\sin \\alpha}{\\eta \\cos \\theta} \\Bigr) = \n",
    "    \\delta \\sin \\alpha \\cdot \\biggl( 1 - \\frac{\\cos \\alpha}{\\sqrt{\\eta^{2} - \\sin^{2} \\alpha}} \\biggr) .\n",
    "$$ \n",
    "A small $\\mathrm{d} \\eta$ of $\\eta$ results in a variation of $s$ by \n",
    "$$\n",
    "    \\mathrm{d} s = \\frac{\\delta \\sin \\alpha \\cos \\alpha}{\\bigl(\\eta^{2} \\sin^{2} \\alpha)^{\\frac{3}{2}}} \\eta \\mathrm{d} \\eta . \n",
    "$$ \n",
    "It can be seen that, for reasonable values of $\\eta$ (say in the range $[1.5, 2.0]$), the part that depends on $\\alpha$ in $s$ and $\\mathrm{d} s$ is bounded by a constant of the order of the unit. \n",
    "This means that the displacement and its variations are negligible compared to the radius $R$ of the sphere, unless $\\delta$ itself is comparable to it. \n",
    "This would mean considering a dielectric layer of thickness comparable to the radius of the Sun, which is not very realistic. "
   ]
  },
  {
   "cell_type": "markdown",
   "metadata": {},
   "source": [
    "## Two incident refractive boundaries\n",
    "\n",
    "We finally consider the more complex situation of two incident refracting planes, which corresponds to a dielectric prism between the camera and the sphere. \n",
    "Assume for simplicity that the intersection between the two planes is parallel to the $z$-axis (which is not the most general situation). \n",
    "Call $\\alpha$ the angle between the first plane and the $xz$-plane, and $\\beta$ the one between the two faces of the prism. \n",
    "Seen from above, the situation is as in the following picture. "
   ]
  },
  {
   "cell_type": "markdown",
   "metadata": {},
   "source": [
    "<img src=\"Doc_assets/doub_ref_raw.png\" alt=\"Basic geometry\" width=\"600\"/> "
   ]
  },
  {
   "cell_type": "markdown",
   "metadata": {},
   "source": [
    "We now want to determine the angle $\\theta$ resulting in a ray being received orthogonally by the screen. \n",
    "The incident angle of the received ray relative to the face closer to the screen is by construction equal to $\\alpha$. \n",
    "Therefore, the incident angle $\\theta_{1}$ of the ray inside the dielectric relative to the same face is determined by \n",
    "$$\n",
    "    \\sin \\theta_{1} = \\frac{1}{\\eta} \\sin \\alpha .\n",
    "$$ \n",
    "Using parallel lines we see that the angle between this ray and the $xz$-plane is equal to $\\alpha - \\theta_{1}$. \n",
    "On the other hand, the angle between the $xz$-plane and the normal to the other face is, again by construction, $\\alpha + \\beta$."
   ]
  },
  {
   "cell_type": "markdown",
   "metadata": {},
   "source": [
    "<img src=\"Doc_assets/doub_ref_first.png\" alt=\"Basic geometry\" width=\"600\"/> \n",
    "<img src=\"Doc_assets/doub_ref_int_angles.png\" alt=\"Basic geometry\" width=\"600\"/> "
   ]
  },
  {
   "cell_type": "markdown",
   "metadata": {},
   "source": [
    "This means that the incident angle of the ray inside the medium relative to the other face is $\\beta + \\theta_{1}$.\n",
    "Calling $\\theta_{2}$ the incident angle of the ray coming from the sphere relative to that face, we then have that \n",
    "$$\n",
    "    \\sin \\theta_{2} = \n",
    "    \\eta \\sin(\\beta + \\theta_{1}) = \n",
    "    \\eta \\sin \\beta \\cos \\theta_{1} + \\eta \\cos \\beta \\sin \\theta_{1} = \n",
    "    \\eta \\sin \\beta \\sqrt{1 - \\sin^{2} \\theta_{1}} + \\cos \\beta \\sin \\alpha = \n",
    "    \\sin \\beta \\sqrt{\\eta^{2} - \\sin^{2} \\alpha} + \\cos \\beta \\sin \\alpha .\n",
    "$$ \n",
    "It is finally clear that the angle we want is $\\theta = \\theta_{2} - (\\alpha + \\beta)$, so \n",
    "$$\n",
    "    \\sin \\theta = \n",
    "    \\sin \\bigl(\\theta_{2} - (\\alpha + \\beta) \\bigr) = \n",
    "    \\sin \\theta_{2} \\cos(\\alpha + \\beta) - \\cos \\theta_{2} \\sin(\\alpha + \\beta) .\n",
    "$$ \n",
    "To evaluate this let us expand\n",
    "$$\n",
    "    \\cos \\theta_{2} = \\sqrt{1 - \\Bigl( \\sin \\beta \\sqrt{\\eta^{2} - \\sin^{2} \\alpha} + \\cos \\beta \\sin \\alpha \\Bigr)^{2}} = \\\\ \n",
    "    = \\sqrt{ 1 - \\sin^{2} \\beta \\bigl(\\eta^{2} - \\sin^{2} \\alpha \\bigr) \n",
    "        - 2 \\sin \\beta \\sqrt{\\eta^{2} - \\sin^{2} \\alpha} \\cos \\beta \\sin \\alpha \n",
    "        - \\cos^{2} \\beta \\sin^{2} \\alpha} = \\\\ \n",
    "    = \\sqrt{ 1 - \\eta^{2} \\sin^{2} \\beta - 2 \\sin \\beta \\sqrt{\\eta^{2} - \\sin^{2} \\alpha} \\cos \\beta \\sin \\alpha }\n",
    "$$\n",
    "The first term of the right-most expression is \n",
    "$$\n",
    "    \\sin \\theta_{2} \\cos(\\alpha + \\beta) = \n",
    "    \\Bigl( \\sin \\beta \\sqrt{\\eta^{2} - \\sin^{2} \\alpha} + \\cos \\beta \\sin \\alpha \\Bigr) \\cdot \\Bigl( \\cos \\alpha \\cos \\beta - \\sin \\alpha \\sin \\beta \\Bigr) ,\n",
    "$$\n",
    "\n",
    "...and it looks like it's going to be a big mess."
   ]
  },
  {
   "cell_type": "markdown",
   "metadata": {},
   "source": [
    "<img src=\"Doc_assets/doub_ref_second.png\" alt=\"Basic geometry\" width=\"600\"/> "
   ]
  }
 ],
 "metadata": {
  "kernelspec": {
   "display_name": "black_body_dispersion",
   "language": "python",
   "name": "python3"
  },
  "language_info": {
   "codemirror_mode": {
    "name": "ipython",
    "version": 3
   },
   "file_extension": ".py",
   "mimetype": "text/x-python",
   "name": "python",
   "nbconvert_exporter": "python",
   "pygments_lexer": "ipython3",
   "version": "3.12.3"
  }
 },
 "nbformat": 4,
 "nbformat_minor": 2
}
